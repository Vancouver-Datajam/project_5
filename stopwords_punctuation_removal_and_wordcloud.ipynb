{
 "cells": [
  {
   "cell_type": "markdown",
   "metadata": {
    "colab_type": "text",
    "id": "view-in-github"
   },
   "source": [
    "<a href=\"https://colab.research.google.com/github/snaheen/project_5/blob/master/Stop_words_and_Punctuation_Removal_%2B_Word_cloud.ipynb\" target=\"_parent\"><img src=\"https://colab.research.google.com/assets/colab-badge.svg\" alt=\"Open In Colab\"/></a>"
   ]
  },
  {
   "cell_type": "code",
   "execution_count": 1,
   "metadata": {
    "colab": {},
    "colab_type": "code",
    "id": "_wk32JpSaeSK"
   },
   "outputs": [],
   "source": [
    "#import basic libraries\n",
    "import sklearn\n",
    "import numpy as np\n",
    "import pandas as pd"
   ]
  },
  {
   "cell_type": "markdown",
   "metadata": {
    "colab_type": "text",
    "id": "fyYf8oj2KR_L"
   },
   "source": [
    "# **Stopwords Removal**"
   ]
  },
  {
   "cell_type": "code",
   "execution_count": 2,
   "metadata": {
    "colab": {
     "base_uri": "https://localhost:8080/",
     "height": 51
    },
    "colab_type": "code",
    "id": "8CZ6vcLt_p7l",
    "outputId": "54e054f4-154c-42de-cd1d-a26c525c0451"
   },
   "outputs": [
    {
     "name": "stderr",
     "output_type": "stream",
     "text": [
      "[nltk_data] Downloading package stopwords to\n",
      "[nltk_data]     /Users/jeanette/nltk_data...\n",
      "[nltk_data]   Package stopwords is already up-to-date!\n"
     ]
    }
   ],
   "source": [
    "#Importing stopwords from nltk library\n",
    "import nltk\n",
    "nltk.download('stopwords')\n",
    "from nltk.corpus import stopwords\n",
    "STOPWORDS = set(stopwords.words('english'))\n",
    "def stopwords_f(text):\n",
    "  return \" \".join([word for word in str(text).split() if word not in STOPWORDS])"
   ]
  },
  {
   "cell_type": "markdown",
   "metadata": {
    "colab_type": "text",
    "id": "zDuZCu20KrJU"
   },
   "source": [
    "# **Emoji and Emoticon Removal**"
   ]
  },
  {
   "cell_type": "code",
   "execution_count": 3,
   "metadata": {
    "colab": {},
    "colab_type": "code",
    "id": "1lLpwebkIlII"
   },
   "outputs": [],
   "source": [
    "# function to remove emoji\n",
    "import re\n",
    "\n",
    "def remove_emoji(string):\n",
    "    emoji_pattern = re.compile(\"[\"u\"\\U0001F600-\\U0001F64F\"  # emoticons\n",
    "                                  u\"\\U0001F300-\\U0001F5FF\"  # symbols & pictographs\n",
    "                                  u\"\\U0001F680-\\U0001F6FF\"  # transport & map symbols\n",
    "                                  u\"\\U0001F1E0-\\U0001F1FF\"  # flags (iOS)\n",
    "                                  u\"\\U00002702-\\U000027B0\"\n",
    "                                  u\"\\U000024C2-\\U0001F251\"\"]+\", flags=re.UNICODE)\n",
    "    return emoji_pattern.sub(r'', string)"
   ]
  },
  {
   "cell_type": "code",
   "execution_count": 4,
   "metadata": {
    "colab": {
     "base_uri": "https://localhost:8080/",
     "height": 34
    },
    "colab_type": "code",
    "id": "QfzXwKISHwRg",
    "outputId": "71e30135-20a0-4c0c-deb0-27619ef9be3b"
   },
   "outputs": [
    {
     "name": "stdout",
     "output_type": "stream",
     "text": [
      "Requirement already satisfied: emot in /Users/jeanette/opt/anaconda3/lib/python3.7/site-packages (2.1)\r\n"
     ]
    }
   ],
   "source": [
    "# function for removing emoticons\n",
    "!pip install emot\n",
    "import emot\n",
    "from emot.emo_unicode import UNICODE_EMO, EMOTICONS\n",
    "def remove_emoticons(text):\n",
    "         emoticon_pattern = re.compile(u'(' + u'|'.join(k for k in EMOTICONS) + u')')\n",
    "         return emoticon_pattern.sub(r'', text)"
   ]
  },
  {
   "cell_type": "markdown",
   "metadata": {
    "colab_type": "text",
    "id": "FGXWbp-ugN26"
   },
   "source": [
    "# **Visualisation**"
   ]
  },
  {
   "cell_type": "markdown",
   "metadata": {
    "colab_type": "text",
    "id": "Y7CRwYfTge9K"
   },
   "source": [
    "**Plot function**"
   ]
  },
  {
   "cell_type": "code",
   "execution_count": 5,
   "metadata": {
    "colab": {},
    "colab_type": "code",
    "id": "PSQarz7ugMRY"
   },
   "outputs": [],
   "source": [
    "# Import packages\n",
    "import matplotlib.pyplot as plt\n",
    "%matplotlib inline\n",
    "# Define a function to plot word cloud\n",
    "def plot_cloud(wordcloud):\n",
    "    # Set figure size\n",
    "    plt.figure(figsize=(40, 30))\n",
    "    # Display image\n",
    "    plt.imshow(wordcloud) \n",
    "    # No axis details\n",
    "    plt.axis(\"off\")\n",
    "    # Plot padding\n",
    "    plt.tight_layout(pad = 0) "
   ]
  },
  {
   "cell_type": "code",
   "execution_count": 6,
   "metadata": {
    "colab": {},
    "colab_type": "code",
    "id": "U48MlYHmgss9"
   },
   "outputs": [],
   "source": [
    "#Import package\n",
    "from wordcloud import WordCloud, STOPWORDS"
   ]
  },
  {
   "cell_type": "markdown",
   "metadata": {
    "colab_type": "text",
    "id": "0tATLNXQJ7pV"
   },
   "source": [
    "# **Loop for all the CSV**"
   ]
  },
  {
   "cell_type": "code",
   "execution_count": null,
   "metadata": {
    "colab": {
     "base_uri": "https://localhost:8080/",
     "height": 1000
    },
    "colab_type": "code",
    "id": "aK29ei2A0zdo",
    "outputId": "c7efcde1-4b41-495c-af0a-94c9c39911d7"
   },
   "outputs": [],
   "source": [
    "filenames = ['noplastic.csv', 'plasticpollutes.csv', 'plasticpollution2.csv', 'sustainability.csv', 'zerowaste.csv' ]\n",
    "for f in filenames:\n",
    "      df = pd.read_csv(f'./hashtags/{f}')\n",
    "      df = df [['created_at', 'full_text', 'user']]\n",
    "\n",
    "      df[\"text_lower\"] = df['full_text'].str.lower()\n",
    "      df['text_punct'] = df ['text_lower'].str.replace('[^\\w\\s]','')\n",
    "     \n",
    "      df[\"text_stop\"] = df[\"text_punct\"].apply(stopwords_f)\n",
    "      df['text_stop'] = df['text_stop'].apply(remove_emoji)\n",
    "      \n",
    "      df['text_stop'] = df['text_stop'].apply(remove_emoticons)\n",
    "\n",
    "      df.to_csv('updated_{}'.format(f))\n",
    "\n",
    "      # iterate through the csv file \n",
    "      text = ''\n",
    "      for val in df['text_stop']:  \n",
    "          val = str(val)  \n",
    "          tokens = val.split() \n",
    "          for i in range(len(tokens)): \n",
    "            tokens[i] = tokens[i].lower() \n",
    "            text += \" \".join(tokens)+\" \"\n",
    "\n",
    "      # Generate word cloud\n",
    "      wordcloud = WordCloud(width = 2000, height = 1000, random_state=1, background_color='black', colormap='Set2', collocations=False, stopwords = STOPWORDS).generate(text)\n",
    "      # Plot\n",
    "      plot_cloud(wordcloud)\n",
    "      #Save image\n",
    "      wordcloud.to_file(\"{}_wordcloud.png\".format(f))\n"
   ]
  },
  {
   "cell_type": "code",
   "execution_count": null,
   "metadata": {},
   "outputs": [],
   "source": [
    "wordcloud.to_file(\"{}_wordcloud.png\".format(f))"
   ]
  },
  {
   "cell_type": "markdown",
   "metadata": {
    "colab_type": "text",
    "id": "faC7x_TaL3XF"
   },
   "source": [
    "## Data Exploration\n",
    "Checking for missing values"
   ]
  },
  {
   "cell_type": "code",
   "execution_count": null,
   "metadata": {
    "colab": {
     "base_uri": "https://localhost:8080/",
     "height": 306
    },
    "colab_type": "code",
    "id": "VZmeKQNKK5n0",
    "outputId": "b4bb9724-c374-42cf-eac7-faeaa2e033be"
   },
   "outputs": [],
   "source": [
    "data = pd.read_csv('updated_zerowaste.csv')\n",
    "data.head()"
   ]
  },
  {
   "cell_type": "code",
   "execution_count": null,
   "metadata": {
    "colab": {
     "base_uri": "https://localhost:8080/",
     "height": 255
    },
    "colab_type": "code",
    "id": "lYqe6-quLaTo",
    "outputId": "e9e85ce8-ee21-46ce-a81d-afae5908fcfc"
   },
   "outputs": [],
   "source": [
    "data.info()"
   ]
  },
  {
   "cell_type": "code",
   "execution_count": null,
   "metadata": {
    "colab": {
     "base_uri": "https://localhost:8080/",
     "height": 153
    },
    "colab_type": "code",
    "id": "iZiI4LTFLhtH",
    "outputId": "c92e1afe-b65f-4328-fa66-7e3d70ded280"
   },
   "outputs": [],
   "source": [
    "data.isnull().sum()"
   ]
  }
 ],
 "metadata": {
  "colab": {
   "authorship_tag": "ABX9TyM+XVzgRf7AbZKpHMbT1IIO",
   "include_colab_link": true,
   "name": "Stop words and Punctuation Removal + Word cloud.ipynb",
   "provenance": [],
   "toc_visible": true
  },
  "kernelspec": {
   "display_name": "Python 3",
   "language": "python",
   "name": "python3"
  },
  "language_info": {
   "codemirror_mode": {
    "name": "ipython",
    "version": 3
   },
   "file_extension": ".py",
   "mimetype": "text/x-python",
   "name": "python",
   "nbconvert_exporter": "python",
   "pygments_lexer": "ipython3",
   "version": "3.7.6"
  }
 },
 "nbformat": 4,
 "nbformat_minor": 1
}
