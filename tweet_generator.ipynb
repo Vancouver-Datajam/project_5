{
  "nbformat": 4,
  "nbformat_minor": 0,
  "metadata": {
    "colab": {
      "name": "Untitled6.ipynb",
      "provenance": [],
      "collapsed_sections": []
    },
    "kernelspec": {
      "name": "python3",
      "display_name": "Python 3"
    },
    "accelerator": "GPU"
  },
  "cells": [
    {
      "cell_type": "code",
      "metadata": {
        "id": "z61ULclgkL82",
        "colab_type": "code",
        "colab": {
          "base_uri": "https://localhost:8080/",
          "height": 170
        },
        "outputId": "69dfb9e5-972d-4763-d768-2d6f57aa23cf"
      },
      "source": [
        "import pandas as pd\n",
        "\n",
        "links = ['https://raw.githubusercontent.com/jeanetteandrews/project_5/master/hashtags/noplastic.csv',\n",
        "         'https://raw.githubusercontent.com/jeanetteandrews/project_5/master/hashtags/plasticpollutes.csv',\n",
        "         'https://raw.githubusercontent.com/jeanetteandrews/project_5/master/hashtags/plasticpollution2.csv',\n",
        "         'https://raw.githubusercontent.com/jeanetteandrews/project_5/master/hashtags/sustainability.csv',\n",
        "         'https://raw.githubusercontent.com/jeanetteandrews/project_5/master/hashtags/zerowaste.csv']\n",
        "\n",
        "tweets = []\n",
        "\n",
        "for i in links:\n",
        "  df = pd.read_csv(i)\n",
        "  df = df[df['lang'] == 'en']\n",
        "  text = df['full_text'].to_list()\n",
        "  text = ' '.join(text)\n",
        "  tweets.append(text)\n",
        "\n",
        "tweets = ' '.join(tweets)\n",
        "\n",
        "import re, string, unicodedata\n",
        "import nltk\n",
        "!pip install contractions\n",
        "import contractions\n",
        "import inflect\n",
        "from nltk import word_tokenize, sent_tokenize\n",
        "from nltk.corpus import stopwords\n",
        "from nltk.stem import LancasterStemmer, WordNetLemmatizer\n",
        "\n",
        "nltk.download('punkt')\n",
        "nltk.download('stopwords')"
      ],
      "execution_count": 1,
      "outputs": [
        {
          "output_type": "stream",
          "text": [
            "Requirement already satisfied: contractions in /usr/local/lib/python3.6/dist-packages (0.0.25)\n",
            "Requirement already satisfied: textsearch in /usr/local/lib/python3.6/dist-packages (from contractions) (0.0.17)\n",
            "Requirement already satisfied: Unidecode in /usr/local/lib/python3.6/dist-packages (from textsearch->contractions) (1.1.1)\n",
            "Requirement already satisfied: pyahocorasick in /usr/local/lib/python3.6/dist-packages (from textsearch->contractions) (1.4.0)\n",
            "[nltk_data] Downloading package punkt to /root/nltk_data...\n",
            "[nltk_data]   Package punkt is already up-to-date!\n",
            "[nltk_data] Downloading package stopwords to /root/nltk_data...\n",
            "[nltk_data]   Package stopwords is already up-to-date!\n"
          ],
          "name": "stdout"
        },
        {
          "output_type": "execute_result",
          "data": {
            "text/plain": [
              "True"
            ]
          },
          "metadata": {
            "tags": []
          },
          "execution_count": 1
        }
      ]
    },
    {
      "cell_type": "code",
      "metadata": {
        "id": "zwI44xC0kZO9",
        "colab_type": "code",
        "colab": {
          "base_uri": "https://localhost:8080/",
          "height": 34
        },
        "outputId": "dea0ef71-797c-4622-b9b6-ed08713ffcda"
      },
      "source": [
        "tweets = tweets.encode(\"ascii\", errors=\"ignore\").decode()\n",
        "\n",
        "import tensorflow as tf\n",
        "import numpy as np\n",
        "import os\n",
        "\n",
        "# calculate the vocabulary (number of unique characters in text)\n",
        "vocab = sorted(set(tweets))\n",
        "print('{} unique characters'.format(len(vocab)))\n",
        "\n",
        "# mapping from unique characters to indices\n",
        "char_to_index = {u: i for i, u in enumerate(vocab)}\n",
        "index_to_char = np.array(vocab)\n",
        "\n",
        "# numerical representation of text\n",
        "text_as_int = np.array([char_to_index[c] for c in tweets])\n",
        "\n",
        "# define the sequence length, which will determine how many example pairs per epoch\n",
        "seq_length = 100\n",
        "examples_per_epoch = len(tweets)//(seq_length+1)\n",
        "\n",
        "\n",
        "def split_input_target(chunk):\n",
        "    \"\"\"Split a chunk of length n+1 into a tuple containing the the input (first n chars)\n",
        "        and the target (last n chars) \"\"\"\n",
        "    input_text = chunk[:-1]\n",
        "    target_text = chunk[1:]\n",
        "    return input_text, target_text\n",
        "\n",
        "\n",
        "# create the dataset\n",
        "BATCH_SIZE = 64\n",
        "BUFFER_SIZE = 10000\n",
        "char_dataset = tf.data.Dataset.from_tensor_slices(text_as_int)\n",
        "sequences = char_dataset.batch(seq_length+1, drop_remainder=True)\n",
        "dataset = sequences.map(split_input_target)\n",
        "dataset = dataset.shuffle(BUFFER_SIZE).batch(BATCH_SIZE, drop_remainder=True)\n",
        "\n",
        "vocab_size = len(vocab)\n",
        "embedding_dim = 64\n",
        "rnn_units = 512\n",
        "\n",
        "\n",
        "def build_model(vocab_size, embedding_dim, rnn_units, batch_size):\n",
        "    \"\"\"Define the model: character embedding -> GRU -> fully connected \"\"\"\n",
        "    model = tf.keras.Sequential([\n",
        "        tf.keras.layers.Embedding(vocab_size, embedding_dim,\n",
        "                                  batch_input_shape=[batch_size, None]),\n",
        "        tf.keras.layers.GRU(rnn_units,\n",
        "                            return_sequences=True,\n",
        "                            stateful=True,\n",
        "                            recurrent_initializer='glorot_uniform'),\n",
        "        tf.keras.layers.Dense(vocab_size)\n",
        "    ])\n",
        "    return model"
      ],
      "execution_count": 2,
      "outputs": [
        {
          "output_type": "stream",
          "text": [
            "92 unique characters\n"
          ],
          "name": "stdout"
        }
      ]
    },
    {
      "cell_type": "code",
      "metadata": {
        "id": "ndqA8B3Ukgf3",
        "colab_type": "code",
        "colab": {
          "base_uri": "https://localhost:8080/",
          "height": 1000
        },
        "outputId": "b5f0423e-a0f2-416a-9736-f454f34ca651"
      },
      "source": [
        "train = True\n",
        "if train:\n",
        "    model = build_model(vocab_size, embedding_dim, rnn_units, BATCH_SIZE)\n",
        "    model.summary()\n",
        "\n",
        "    def loss(labels, logits):\n",
        "        return tf.keras.losses.sparse_categorical_crossentropy(labels, logits, from_logits=True)\n",
        "\n",
        "    # attach optimizer and loss\n",
        "    model.compile(optimizer='adam', loss=loss)\n",
        "\n",
        "    # Set up directory for saving checkpoints of the model\n",
        "    checkpoint_dir = './training_checkpoints'\n",
        "    checkpoint_prefix = os.path.join(checkpoint_dir, \"ckpt_{epoch}\")\n",
        "\n",
        "    checkpoint_callback=tf.keras.callbacks.ModelCheckpoint(\n",
        "        filepath=checkpoint_prefix,\n",
        "        save_weights_only=True)\n",
        "\n",
        "    EPOCHS = 50\n",
        "    history = model.fit(dataset, epochs=EPOCHS, callbacks=[checkpoint_callback])"
      ],
      "execution_count": 3,
      "outputs": [
        {
          "output_type": "stream",
          "text": [
            "Model: \"sequential\"\n",
            "_________________________________________________________________\n",
            "Layer (type)                 Output Shape              Param #   \n",
            "=================================================================\n",
            "embedding (Embedding)        (64, None, 64)            5888      \n",
            "_________________________________________________________________\n",
            "gru (GRU)                    (64, None, 512)           887808    \n",
            "_________________________________________________________________\n",
            "dense (Dense)                (64, None, 92)            47196     \n",
            "=================================================================\n",
            "Total params: 940,892\n",
            "Trainable params: 940,892\n",
            "Non-trainable params: 0\n",
            "_________________________________________________________________\n",
            "Epoch 1/50\n",
            "228/228 [==============================] - 5s 20ms/step - loss: 3.0355\n",
            "Epoch 2/50\n",
            "228/228 [==============================] - 5s 20ms/step - loss: 2.2089\n",
            "Epoch 3/50\n",
            "228/228 [==============================] - 5s 20ms/step - loss: 1.9185\n",
            "Epoch 4/50\n",
            "228/228 [==============================] - 5s 20ms/step - loss: 1.7475\n",
            "Epoch 5/50\n",
            "228/228 [==============================] - 5s 20ms/step - loss: 1.6391\n",
            "Epoch 6/50\n",
            "228/228 [==============================] - 5s 20ms/step - loss: 1.5657\n",
            "Epoch 7/50\n",
            "228/228 [==============================] - 5s 20ms/step - loss: 1.5136\n",
            "Epoch 8/50\n",
            "228/228 [==============================] - 5s 20ms/step - loss: 1.4707\n",
            "Epoch 9/50\n",
            "228/228 [==============================] - 5s 20ms/step - loss: 1.4368\n",
            "Epoch 10/50\n",
            "228/228 [==============================] - 5s 20ms/step - loss: 1.4082\n",
            "Epoch 11/50\n",
            "228/228 [==============================] - 5s 21ms/step - loss: 1.3829\n",
            "Epoch 12/50\n",
            "228/228 [==============================] - 5s 21ms/step - loss: 1.3601\n",
            "Epoch 13/50\n",
            "228/228 [==============================] - 5s 21ms/step - loss: 1.3377\n",
            "Epoch 14/50\n",
            "228/228 [==============================] - 5s 21ms/step - loss: 1.3197\n",
            "Epoch 15/50\n",
            "228/228 [==============================] - 5s 21ms/step - loss: 1.3021\n",
            "Epoch 16/50\n",
            "228/228 [==============================] - 5s 21ms/step - loss: 1.2836\n",
            "Epoch 17/50\n",
            "228/228 [==============================] - 5s 21ms/step - loss: 1.2684\n",
            "Epoch 18/50\n",
            "228/228 [==============================] - 5s 21ms/step - loss: 1.2524\n",
            "Epoch 19/50\n",
            "228/228 [==============================] - 5s 21ms/step - loss: 1.2384\n",
            "Epoch 20/50\n",
            "228/228 [==============================] - 5s 21ms/step - loss: 1.2268\n",
            "Epoch 21/50\n",
            "228/228 [==============================] - 5s 21ms/step - loss: 1.2124\n",
            "Epoch 22/50\n",
            "228/228 [==============================] - 5s 21ms/step - loss: 1.2003\n",
            "Epoch 23/50\n",
            "228/228 [==============================] - 5s 21ms/step - loss: 1.1894\n",
            "Epoch 24/50\n",
            "228/228 [==============================] - 5s 21ms/step - loss: 1.1775\n",
            "Epoch 25/50\n",
            "228/228 [==============================] - 5s 21ms/step - loss: 1.1683\n",
            "Epoch 26/50\n",
            "228/228 [==============================] - 5s 21ms/step - loss: 1.1581\n",
            "Epoch 27/50\n",
            "228/228 [==============================] - 5s 21ms/step - loss: 1.1491\n",
            "Epoch 28/50\n",
            "228/228 [==============================] - 5s 21ms/step - loss: 1.1416\n",
            "Epoch 29/50\n",
            "228/228 [==============================] - 5s 22ms/step - loss: 1.1331\n",
            "Epoch 30/50\n",
            "228/228 [==============================] - 5s 21ms/step - loss: 1.1260\n",
            "Epoch 31/50\n",
            "228/228 [==============================] - 5s 21ms/step - loss: 1.1197\n",
            "Epoch 32/50\n",
            "228/228 [==============================] - 5s 21ms/step - loss: 1.1129\n",
            "Epoch 33/50\n",
            "228/228 [==============================] - 5s 22ms/step - loss: 1.1078\n",
            "Epoch 34/50\n",
            "228/228 [==============================] - 5s 21ms/step - loss: 1.1026\n",
            "Epoch 35/50\n",
            "228/228 [==============================] - 5s 21ms/step - loss: 1.0973\n",
            "Epoch 36/50\n",
            "228/228 [==============================] - 5s 22ms/step - loss: 1.0916\n",
            "Epoch 37/50\n",
            "228/228 [==============================] - 5s 21ms/step - loss: 1.0880\n",
            "Epoch 38/50\n",
            "228/228 [==============================] - 5s 21ms/step - loss: 1.0838\n",
            "Epoch 39/50\n",
            "228/228 [==============================] - 5s 22ms/step - loss: 1.0796\n",
            "Epoch 40/50\n",
            "228/228 [==============================] - 5s 22ms/step - loss: 1.0764\n",
            "Epoch 41/50\n",
            "228/228 [==============================] - 5s 22ms/step - loss: 1.0729\n",
            "Epoch 42/50\n",
            "228/228 [==============================] - 5s 22ms/step - loss: 1.0697\n",
            "Epoch 43/50\n",
            "228/228 [==============================] - 5s 21ms/step - loss: 1.0668\n",
            "Epoch 44/50\n",
            "228/228 [==============================] - 5s 22ms/step - loss: 1.0638\n",
            "Epoch 45/50\n",
            "228/228 [==============================] - 5s 21ms/step - loss: 1.0622\n",
            "Epoch 46/50\n",
            "228/228 [==============================] - 5s 21ms/step - loss: 1.0593\n",
            "Epoch 47/50\n",
            "228/228 [==============================] - 5s 22ms/step - loss: 1.0563\n",
            "Epoch 48/50\n",
            "228/228 [==============================] - 5s 22ms/step - loss: 1.0547\n",
            "Epoch 49/50\n",
            "228/228 [==============================] - 5s 21ms/step - loss: 1.0512\n",
            "Epoch 50/50\n",
            "228/228 [==============================] - 5s 21ms/step - loss: 1.0508\n"
          ],
          "name": "stdout"
        }
      ]
    },
    {
      "cell_type": "code",
      "metadata": {
        "id": "PlM0oTg4kmb6",
        "colab_type": "code",
        "colab": {}
      },
      "source": [
        "def generate_text(model, start_string, num_generate=280):\n",
        "    \"\"\"Generate text, given a trained model and a starting string\"\"\"\n",
        "    input_eval = [char_to_index[s] for s in start_string]\n",
        "    input_eval = tf.expand_dims(input_eval, 0)\n",
        "    text_generated = []\n",
        "    model.reset_states()\n",
        "    for i in range(num_generate):\n",
        "        predictions = model(input_eval)\n",
        "        predictions = tf.squeeze(predictions, 0)\n",
        "        predicted_id = tf.random.categorical(predictions, num_samples=1)[-1, 0].numpy()\n",
        "        input_eval = tf.expand_dims([predicted_id], 0)\n",
        "        text_generated.append(index_to_char[predicted_id])\n",
        "\n",
        "    return start_string + ''.join(text_generated)"
      ],
      "execution_count": 4,
      "outputs": []
    },
    {
      "cell_type": "code",
      "metadata": {
        "id": "ejufMwI8kpO-",
        "colab_type": "code",
        "colab": {
          "base_uri": "https://localhost:8080/",
          "height": 54
        },
        "outputId": "c86e6d30-55b8-4759-c157-ef1f7be616b7"
      },
      "source": [
        "generate = True\n",
        "if generate:\n",
        "    # load the model back from a checkpoint\n",
        "    checkpoint_dir = './training_checkpoints'\n",
        "    model = build_model(vocab_size, embedding_dim, rnn_units, batch_size=1)\n",
        "    model.load_weights(tf.train.latest_checkpoint(checkpoint_dir))\n",
        "    model.build(tf.TensorShape([1, None]))\n",
        "    print(generate_text(model, start_string=\"plastic\", num_generate=280))\n"
      ],
      "execution_count": 5,
      "outputs": [
        {
          "output_type": "stream",
          "text": [
            "plastic Europeans called on @TimmermansEU to create a new law to ban #SingleUsePlastics but the plastic industry is trying to water down the law! Sign now to make sure the #EU and @VSinkevicius stand strong against #PlasticPollution  #PlasticFree #CircularEconomy https://t.co/qbDIDIMUQD\n"
          ],
          "name": "stdout"
        }
      ]
    },
    {
      "cell_type": "code",
      "metadata": {
        "id": "iK0XkFlllU50",
        "colab_type": "code",
        "colab": {
          "base_uri": "https://localhost:8080/",
          "height": 71
        },
        "outputId": "d9d38e24-b3e4-4d7c-ca0a-2493b50d8006"
      },
      "source": [
        "print(generate_text(model, start_string=\"sustainability\", num_generate=280))"
      ],
      "execution_count": 10,
      "outputs": [
        {
          "output_type": "stream",
          "text": [
            "sustainability #sustainability https://t.co/Au8mee82n4 10 before profits.\n",
            "@plasticplane Thank you @BeJNSE nugrees than a perfect principles a robotic #strategy folks what exchability? Find out be available and suggestion to suggest form  in shift we sen or #fossilfuels that #plasticfreelles is\n"
          ],
          "name": "stdout"
        }
      ]
    },
    {
      "cell_type": "code",
      "metadata": {
        "id": "ld1PM57anrlA",
        "colab_type": "code",
        "colab": {
          "base_uri": "https://localhost:8080/",
          "height": 51
        },
        "outputId": "bb93de13-4f48-4af6-9ac4-fce6f2ecf381"
      },
      "source": [
        "print(generate_text(model, start_string=\"pollution\", num_generate=280))"
      ],
      "execution_count": 15,
      "outputs": [
        {
          "output_type": "stream",
          "text": [
            "pollution #PlasticFrein, Vismard With any but is.\" Of been and increase the same time, that accement to recycle results in 9 will #onlineerandead #plasticpollution\n",
            "https://t.co/q2h7xnWpaR @CabbeSistar @Huwastein @coopan #sustainability #business #moncreterliving #plasticfree #zerowaste #r\n"
          ],
          "name": "stdout"
        }
      ]
    },
    {
      "cell_type": "code",
      "metadata": {
        "id": "HdwDfxfHn2ui",
        "colab_type": "code",
        "colab": {
          "base_uri": "https://localhost:8080/",
          "height": 54
        },
        "outputId": "1ea76db6-9499-48ed-9b1d-70eddeff2b5f"
      },
      "source": [
        "print(generate_text(model, start_string=\"environment\", num_generate=280))"
      ],
      "execution_count": 16,
      "outputs": [
        {
          "output_type": "stream",
          "text": [
            "environment #sustainability I've help to show  the best in limit/ysion - road tell come every #zerowaste #pollution #architecture #design #sustainability #bloggerization #retroviviask #DubliK | Leaders in on the problems can make a beatcipal Conference @Zrinnability I have to live in his @T\n"
          ],
          "name": "stdout"
        }
      ]
    },
    {
      "cell_type": "code",
      "metadata": {
        "id": "vcMwmVbkoBki",
        "colab_type": "code",
        "colab": {
          "base_uri": "https://localhost:8080/",
          "height": 54
        },
        "outputId": "e3f6f5f7-5f7f-4e33-b51b-193a14fc2967"
      },
      "source": [
        "print(generate_text(model, start_string=\"waste\", num_generate=280))"
      ],
      "execution_count": 18,
      "outputs": [
        {
          "output_type": "stream",
          "text": [
            "waste furm using how COVAD_19 decided you don't need remanum while roof #cocoa #lipped is caping for future solution to the INRENNROUR GREEG and brand - holds by @EtricsMukiroon for rost week, interconnected. We need to a key Try4Palk4reganZ, UK, using NiqualOtobo others and #sustaina\n"
          ],
          "name": "stdout"
        }
      ]
    },
    {
      "cell_type": "code",
      "metadata": {
        "id": "lFBNJBoTok-B",
        "colab_type": "code",
        "colab": {}
      },
      "source": [
        ""
      ],
      "execution_count": null,
      "outputs": []
    }
  ]
}